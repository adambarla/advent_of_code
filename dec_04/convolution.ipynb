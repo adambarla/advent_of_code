{
 "cells": [
  {
   "cell_type": "code",
   "execution_count": 100,
   "id": "51dc8b55-27ad-4997-a216-5d672d6f83dc",
   "metadata": {},
   "outputs": [],
   "source": [
    "import torch\n",
    "import torch.nn.functional as F\n",
    "\n",
    "file_path = \"input.txt\"  \n",
    "with open(file_path, 'r') as file:\n",
    "    lines = file.readlines() "
   ]
  },
  {
   "cell_type": "code",
   "execution_count": 101,
   "id": "4025c5eb-55d1-4284-86de-948c2a44b896",
   "metadata": {},
   "outputs": [],
   "source": [
    "def lines_to_tensor(lines):\n",
    "    letter_to_num = {chr(i + 96): i for i in range(1, 27)}\n",
    "    letter_to_num.update({' ': 0})\n",
    "    letter_to_num.update({'.': 0})\n",
    "    rows = []\n",
    "    for line in lines:\n",
    "        numbers = [letter_to_num[char] for char in line.lower() if char in letter_to_num]\n",
    "        rows.append(numbers)\n",
    "    tensor = torch.tensor(rows, dtype=torch.float)\n",
    "    return tensor\n",
    "\n",
    "def str_to_kernel(kernel,delim=','):\n",
    "    kernel = kernel.split(delim)\n",
    "    kernel = lines_to_tensor(kernel)\n",
    "    kernel = 1/kernel\n",
    "    kernel = torch.where(torch.isinf(kernel), torch.tensor(0.0), kernel)\n",
    "    return kernel\n",
    "    "
   ]
  },
  {
   "cell_type": "code",
   "execution_count": 102,
   "id": "8f932467-8374-4623-b951-9d355e82f4ab",
   "metadata": {},
   "outputs": [],
   "source": [
    "arr = lines_to_tensor(lines)"
   ]
  },
  {
   "cell_type": "code",
   "execution_count": 103,
   "id": "3c44770d-31b9-425d-9594-0d9527731b59",
   "metadata": {},
   "outputs": [
    {
     "data": {
      "text/plain": [
       "1831"
      ]
     },
     "execution_count": 103,
     "metadata": {},
     "output_type": "execute_result"
    }
   ],
   "source": [
    "kernels = [ \"M M, A ,S S\",\n",
    "            \"M S, A ,M S\",\n",
    "            \"S S, A ,M M\",\n",
    "            \"S M, A ,S M\"]\n",
    "tolerance = 10e-6\n",
    "count = 0\n",
    "for k in kernels:\n",
    "    kernel = str_to_kernel(k)\n",
    "    output = F.conv2d(arr.unsqueeze(0).unsqueeze(0), kernel.unsqueeze(0).unsqueeze(0), stride=1, padding=0)\n",
    "    count += (torch.abs(output - 5) <= tolerance).sum()\n",
    "count.item()"
   ]
  },
  {
   "cell_type": "code",
   "execution_count": null,
   "id": "8fa160e5-543e-4185-8887-848aff108b88",
   "metadata": {},
   "outputs": [],
   "source": []
  }
 ],
 "metadata": {
  "kernelspec": {
   "display_name": "Python 3 (ipykernel)",
   "language": "python",
   "name": "python3"
  },
  "language_info": {
   "codemirror_mode": {
    "name": "ipython",
    "version": 3
   },
   "file_extension": ".py",
   "mimetype": "text/x-python",
   "name": "python",
   "nbconvert_exporter": "python",
   "pygments_lexer": "ipython3",
   "version": "3.9.20"
  }
 },
 "nbformat": 4,
 "nbformat_minor": 5
}
